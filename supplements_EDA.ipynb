{
 "cells": [
  {
   "cell_type": "code",
   "execution_count": 1,
   "metadata": {},
   "outputs": [
    {
     "data": {
      "text/plain": [
       "'C:\\\\Users\\\\조현서\\\\Desktop\\\\비어플신입세션\\\\프로젝트_1'"
      ]
     },
     "execution_count": 1,
     "metadata": {},
     "output_type": "execute_result"
    }
   ],
   "source": [
    "import numpy as np\n",
    "import pandas as pd\n",
    "import matplotlib.pyplot as plt\n",
    "import seaborn as sns\n",
    "\n",
    "from matplotlib import rc\n",
    "rc('font', family='NanumGothic')\n",
    "\n",
    "# Warning 메세지를 뜨지 않게\n",
    "import warnings\n",
    "warnings.filterwarnings('ignore')\n",
    "\n",
    "import os \n",
    "os.chdir(\"C:/Users/조현서/Desktop/비어플신입세션/프로젝트_1\")\n",
    "currentpath = os.getcwd()\n",
    "currentpath"
   ]
  },
  {
   "cell_type": "markdown",
   "metadata": {},
   "source": [
    "## 영양제 데이터셋 불러오기"
   ]
  },
  {
   "cell_type": "code",
   "execution_count": 3,
   "metadata": {},
   "outputs": [],
   "source": [
    "pre_supplement=pd.read_csv(\"supplements.csv\")\n",
    "supplement=pre_supplement.copy()"
   ]
  },
  {
   "cell_type": "code",
   "execution_count": 4,
   "metadata": {},
   "outputs": [
    {
     "data": {
      "text/html": [
       "<div>\n",
       "<style scoped>\n",
       "    .dataframe tbody tr th:only-of-type {\n",
       "        vertical-align: middle;\n",
       "    }\n",
       "\n",
       "    .dataframe tbody tr th {\n",
       "        vertical-align: top;\n",
       "    }\n",
       "\n",
       "    .dataframe thead th {\n",
       "        text-align: right;\n",
       "    }\n",
       "</style>\n",
       "<table border=\"1\" class=\"dataframe\">\n",
       "  <thead>\n",
       "    <tr style=\"text-align: right;\">\n",
       "      <th></th>\n",
       "      <th>이름</th>\n",
       "      <th>영양성분</th>\n",
       "      <th>용량</th>\n",
       "    </tr>\n",
       "  </thead>\n",
       "  <tbody>\n",
       "    <tr>\n",
       "      <th>0</th>\n",
       "      <td>면역엔아연</td>\n",
       "      <td>아연</td>\n",
       "      <td>28mg</td>\n",
       "    </tr>\n",
       "    <tr>\n",
       "      <th>1</th>\n",
       "      <td>메가씨 3000</td>\n",
       "      <td>비타민C</td>\n",
       "      <td>3,000mg</td>\n",
       "    </tr>\n",
       "    <tr>\n",
       "      <th>2</th>\n",
       "      <td>메가씨 비타민C 골드 7 플래티넘 6개월</td>\n",
       "      <td>비타민C</td>\n",
       "      <td>1,000mg</td>\n",
       "    </tr>\n",
       "    <tr>\n",
       "      <th>3</th>\n",
       "      <td>리얼 아르기닌 파워업 6000</td>\n",
       "      <td>아르기닌</td>\n",
       "      <td>6,000mg</td>\n",
       "    </tr>\n",
       "    <tr>\n",
       "      <th>4</th>\n",
       "      <td>초임계 알티지 rTG 오메가3</td>\n",
       "      <td>rTG 오메가-3</td>\n",
       "      <td>600mg</td>\n",
       "    </tr>\n",
       "    <tr>\n",
       "      <th>...</th>\n",
       "      <td>...</td>\n",
       "      <td>...</td>\n",
       "      <td>...</td>\n",
       "    </tr>\n",
       "    <tr>\n",
       "      <th>130</th>\n",
       "      <td>콤부타임 톡톡 비타민C+</td>\n",
       "      <td>콤부차 분말</td>\n",
       "      <td>500mg</td>\n",
       "    </tr>\n",
       "    <tr>\n",
       "      <th>131</th>\n",
       "      <td>일양6년 홍삼 흑마늘 명품 30포</td>\n",
       "      <td>홍삼, 흑마늘</td>\n",
       "      <td>NaN</td>\n",
       "    </tr>\n",
       "    <tr>\n",
       "      <th>132</th>\n",
       "      <td>일양6년 홍삼 녹용 명품 30포</td>\n",
       "      <td>홍삼, 녹용</td>\n",
       "      <td>NaN</td>\n",
       "    </tr>\n",
       "    <tr>\n",
       "      <th>133</th>\n",
       "      <td>[신규 제품 출시로 판매 종료] 류신 프리미엄 정</td>\n",
       "      <td>류신</td>\n",
       "      <td>100mg</td>\n",
       "    </tr>\n",
       "    <tr>\n",
       "      <th>134</th>\n",
       "      <td>리얼그램 활성엽산B</td>\n",
       "      <td>엽산</td>\n",
       "      <td>5-MTHF 800ug</td>\n",
       "    </tr>\n",
       "  </tbody>\n",
       "</table>\n",
       "<p>135 rows × 3 columns</p>\n",
       "</div>"
      ],
      "text/plain": [
       "                              이름       영양성분            용량\n",
       "0                          면역엔아연         아연          28mg\n",
       "1                       메가씨 3000       비타민C       3,000mg\n",
       "2         메가씨 비타민C 골드 7 플래티넘 6개월       비타민C       1,000mg\n",
       "3               리얼 아르기닌 파워업 6000       아르기닌       6,000mg\n",
       "4               초임계 알티지 rTG 오메가3  rTG 오메가-3         600mg\n",
       "..                           ...        ...           ...\n",
       "130                콤부타임 톡톡 비타민C+     콤부차 분말         500mg\n",
       "131           일양6년 홍삼 흑마늘 명품 30포    홍삼, 흑마늘           NaN\n",
       "132            일양6년 홍삼 녹용 명품 30포     홍삼, 녹용           NaN\n",
       "133  [신규 제품 출시로 판매 종료] 류신 프리미엄 정         류신         100mg\n",
       "134                   리얼그램 활성엽산B         엽산  5-MTHF 800ug\n",
       "\n",
       "[135 rows x 3 columns]"
      ]
     },
     "execution_count": 4,
     "metadata": {},
     "output_type": "execute_result"
    }
   ],
   "source": [
    "supplement"
   ]
  },
  {
   "cell_type": "code",
   "execution_count": 5,
   "metadata": {},
   "outputs": [
    {
     "name": "stdout",
     "output_type": "stream",
     "text": [
      "<class 'pandas.core.frame.DataFrame'>\n",
      "RangeIndex: 135 entries, 0 to 134\n",
      "Data columns (total 3 columns):\n",
      " #   Column  Non-Null Count  Dtype \n",
      "---  ------  --------------  ----- \n",
      " 0   이름      135 non-null    object\n",
      " 1   영양성분    135 non-null    object\n",
      " 2   용량      129 non-null    object\n",
      "dtypes: object(3)\n",
      "memory usage: 3.3+ KB\n"
     ]
    }
   ],
   "source": [
    "supplement.info()"
   ]
  },
  {
   "cell_type": "code",
   "execution_count": 8,
   "metadata": {},
   "outputs": [
    {
     "name": "stdout",
     "output_type": "stream",
     "text": [
      "Unique 이름: 135\n",
      "Unique 영양성분: 110\n"
     ]
    }
   ],
   "source": [
    "print(\"Unique 이름:\", supplement['이름'].nunique())\n",
    "print(\"Unique 영양성분:\", supplement['영양성분'].nunique())"
   ]
  },
  {
   "cell_type": "code",
   "execution_count": 12,
   "metadata": {},
   "outputs": [
    {
     "name": "stdout",
     "output_type": "stream",
     "text": [
      "Unique names:\n",
      " ['면역엔아연' '메가씨 3000' '메가씨 비타민C 골드 7 플래티넘 6개월' '리얼 아르기닌 파워업 6000'\n",
      " '초임계 알티지 rTG 오메가3' '메리트비 비타민B 콤플렉스' '생유산균 프로바이오틱스 밸런스 100'\n",
      " '리얼 비타민D 5000IU 3개월' '인지력 개선 브레인 액티브 포스파티딜세린' '리얼 칼슘 마그네슘 아연 비타민D'\n",
      " '마그네슘 컴플렉스' '관절 MSM 글루코사민' '눈 건강엔 루테인 프리미엄' '부스터B' '카무트 골드핏 발효효소'\n",
      " '마그네슘 400 컴플렉스 6개월' '류신 단백질 프리미엄 플러스' '바나바 혈당케어 플러스' '메디트리 코큐텐11'\n",
      " '맥주효모 골드' '아이케어 루테인지아잔틴 아스타잔틴 플러스' '종근당건강 비타민D 2000IU 1+1'\n",
      " '리얼 콘드로이친 1200' '홀인원' '닥터팜 코큐텐 밀크씨슬' '리얼 밀크씨슬' '보령 올인원 멀티비타민&미네랄'\n",
      " '비비랩 저분자 콜라겐' '프리미엄 쏘팔코펜 옥타코사놀' '식물성 멜라토닌 멜라테닌 트리플' '익스트림 비오틴 10000'\n",
      " '서클존 징코플러스' '리얼 프로폴리스' '코엔자임 Q10 밸런스 500' '리핏 어린 저분자피쉬콜라겐' '관절엔 엠에스엠'\n",
      " '메타리버 LD100 다이렉트' '리얼 여주정 1+1' '철분 헤마Hema-부스터' '블랙마카 2500 1+1'\n",
      " '데일리 혈행케어 초임계 rTG오메가3' '리포좀 비타민C 분말 스틱' '곡물효소 프로바이오틱스'\n",
      " '온유 햄프 대마종자유 식물성 캡슐' '보스웰리아 비타민D' '리얼 보스웰리아' '라이코펜 활력 플러스'\n",
      " '이뮨 프로바이오틱스 100' '바나바 카테킨 혈당 다이어트' '홍국 바나바 오메가3 트리플 레드케어' '산양유 단백질 분말 스틱'\n",
      " '당케어 앤 유산균' '비비랩 더 엘라스틴' '나토키나제 혈행케어 플러스' '더쎈 블랙마카 2000'\n",
      " '데일리 비타민C 1000 골드 플러스' '위편한 위대한 양배추정' '비타민D 4000IU 아연 츄어블' '김소형원방 흑염소 진액'\n",
      " '리얼 유단백추출물 MBP정' '아누카사과 맥주효모 비오틴 플러스 정' '비타민E 컴플렉스' '화이링워터' '리얼 카테킨'\n",
      " '위건강 헬리코박터 프로젝트' '인지력 기억력 포스파티딜세린 징코' '비비랩 프로바이오틱스 더블유 이너케어' '리얼 파인애플 효소'\n",
      " '헬스뱅 요오드' '구강유산균 덴탈 프로바이오틱스 자일리톨' '콜린 미오이노시톨 4000'\n",
      " '자르르 뮤신 콜라겐 락토페린 히알 글루C' '밸런스업 시크릿케어 유산균' '수면 건강 꿀잠 락티움' '스피루리나 밸런스'\n",
      " '대두레시틴 밸런스' '이지다이어트 액티브 공액리놀렌산 CLA' '식물성 오메가-3 컴플렉스 미니' '락토페린'\n",
      " '리얼 몽모랑시 타트체리 100' '미라클 맥주효모 동결건조환' '164 루테인지아잔틴 알티지오메가3 GR'\n",
      " '리얼 콤부차 애플사이다비니거' '관절엔 소연골 뮤코다당단백 콘드로이친' '나노셀 수용성 커큐민'\n",
      " '기억력 인지력 포스파티딜세린 징코' '우먼스 감마리놀렌산 밸런스' '띵똥 부드럽게 차전자피식이섬유'\n",
      " '모로오렌지 락토페린 프리미엄정' '산삼배양근 신기력 진품 16환' '하루하나 유기농 레몬착즙' '프리미엄 알부민 플러스'\n",
      " '스트레스 케어 테아닌 홍경천' '비비랩 히알루론산' '유기농 새싹보리 분말' '미슬토 추출 분말 산화아연 프리미엄 정'\n",
      " '리얼 크랜베리정' '베르가못 폴리페놀 추출물 구아검가수분해물 락토페린' '와사비잎 추출물 밸런스업 플러스'\n",
      " '콜레스테롤 케어 발효 홍국' '식물성 아마씨유 리놀렌산 밸런스' '38 발효효소' '수면건강 아쉬아간다'\n",
      " '마시는 가르시니아 다이어트 모로오렌지맛' '발효 황경단 28환' '릴렉스케어 스트레스엔' '프리미엄 리포좀 비타민C'\n",
      " '퓨어 엑스트라버진 아보카도오일캡슐' '신바이오틱스 3000골드' '익스트림 블랙마카 활력환' '보령 마시는 마그네슘 퀵'\n",
      " '프리미엄 프로테오글리칸 30' '안심 새싹보리정' '리얼그램 변비움' '양춘사 추출물 바나바잎 플러스'\n",
      " '고칼슘 산양유 초유 단백질 밸런스' '발효효소 순' '링곤베리 프리미엄 정' '헛개꿀 밀크씨슬' '이뮨 듀오 멀티비타맥스'\n",
      " '메노센스 퀸' '스페인산 순 유기농 레몬즙 스틱 100' '화이링W' '정관장 일품홍삼' '이지슬림 에브리컷 다이어트'\n",
      " '마그네슘 파워업' '클로렐라 밸런스' '장건강 좋아질 유산균' '프리미엄 발효율피추출물 정' '에너지업 마시는 침향'\n",
      " '콤부타임 톡톡 비타민C+' '일양6년 홍삼 흑마늘 명품 30포' '일양6년 홍삼 녹용 명품 30포'\n",
      " '[신규 제품 출시로 판매 종료] 류신 프리미엄 정' '리얼그램 활성엽산B']\n"
     ]
    }
   ],
   "source": [
    "unique_names = supplement['이름'].unique()\n",
    "print(\"Unique names:\\n\", unique_names)"
   ]
  },
  {
   "cell_type": "markdown",
   "metadata": {},
   "source": [
    "'생유산균 프로바이오틱스 밸런스 100', '당케어 앤 유산균'와 같이 같은 분류로 묶여야되는 영양제들이 다수 보임"
   ]
  },
  {
   "cell_type": "code",
   "execution_count": 13,
   "metadata": {},
   "outputs": [
    {
     "name": "stdout",
     "output_type": "stream",
     "text": [
      "Unique names:\n",
      " ['아연' '비타민C' '아르기닌' 'rTG 오메가-3' '비타민 B군' '유산균' '비타민D' '포스파티딜세린' '칼슘'\n",
      " '마그네슘' 'MSM' '루테인' '카무트 효소' '류신' '코로솔산' '코엔자임Q10' '맥주효모' '루테인지아잔틴'\n",
      " '콘드로이친 복합물' '쏘팔메토' '코큐텐' '밀크씨슬' '멀티비타민' '콜라겐' '로르산' '멜라토닌' '비오틴' '은행잎추출물'\n",
      " '프로폴리스' '코엔자임 Q10' '저분자피쉬콜라겐' '레몬밤민들레추출복합물(LD100)' '여주' '철분' '마카'\n",
      " '리포좀 비타민C' '곡물효소' '대마종자유' '보스웰리아' '라이코펜' '카테킨' '모나콜린K' '산양유' '바나바잎 + 유산균'\n",
      " '엘라스틴' '나토키나제' '블랙마카' '양배추추출분말' '흑염소진액' 'MBP' '아누카사과' '비타민E' '포도당'\n",
      " '스페인감초추출물' '은행잎 + 포스파티딜세린' '브로멜라인' '요오드' '구강유산균' '이노시톨' '뮤신' '질유산균' '락티움'\n",
      " '엽록소' '대두레시틴' '공액리놀렌산' '오메가-3' '락토페린' '타트체리' '애플사이다비니거' '뮤코다당단백' '커큐민'\n",
      " '감마리놀렌산' '차전자피식이섬유' '모로오렌지' '산삼' '레몬즙' '알부민' '홍경천 + 테아닌' '히알루론산'\n",
      " '유기농새싹보리' '미슬토' '크랜베리' '베르가못 복합물' '와사비잎' '아마씨유' '효소' '아쉬아간다추출물' 'HCA'\n",
      " '홍삼, 녹용, 침향' '테아닌' '아보카도오일' '프리바이오틱스' '연어코연골추출분말' '새싹보리' '푸룬농축액' '양춘사추출물'\n",
      " '발효효소분말' '링곤베리퓨레추출물' '벌꿀' 'B1' '회화나무열매추출물' '홍삼 성분' '가르시니아캄보지아추출물' '클로렐라'\n",
      " '발효율피추출물' '침향' '콤부차 분말' '홍삼, 흑마늘' '홍삼, 녹용' '엽산']\n"
     ]
    }
   ],
   "source": [
    "unique_nutrient = supplement['영양성분'].unique()\n",
    "print(\"Unique names:\\n\", unique_nutrient)"
   ]
  },
  {
   "cell_type": "markdown",
   "metadata": {},
   "source": [
    "마찬가지로 영양성분 변수도 '유산균', '질유산균', '바나바잎+유산균'이나 '홍삼','홍삼성분'등 같은 분류로 묶여야되는 그룹이 보임"
   ]
  },
  {
   "cell_type": "code",
   "execution_count": 9,
   "metadata": {},
   "outputs": [
    {
     "name": "stdout",
     "output_type": "stream",
     "text": [
      "중복된 영양성분:\n",
      " 영양성분\n",
      "유산균          4\n",
      "마그네슘         4\n",
      "비타민D         3\n",
      "비타민C         3\n",
      "비타민 B군       2\n",
      "rTG 오메가-3    2\n",
      "류신           2\n",
      "루테인          2\n",
      "포스파티딜세린      2\n",
      "MSM          2\n",
      "산양유          2\n",
      "모나콜린K        2\n",
      "카테킨          2\n",
      "맥주효모         2\n",
      "보스웰리아        2\n",
      "리포좀 비타민C     2\n",
      "포도당          2\n",
      "블랙마카         2\n",
      "레몬즙          2\n",
      "Name: count, dtype: int64\n"
     ]
    }
   ],
   "source": [
    "# 영양성분 변수에서 중복된 값 확인\n",
    "nutrient_counts = supplement['영양성분'].value_counts()\n",
    "duplicate_nutrients = nutrient_counts[nutrient_counts > 1]\n",
    "print(\"중복된 영양성분:\\n\", duplicate_nutrients)"
   ]
  },
  {
   "cell_type": "code",
   "execution_count": 4,
   "metadata": {},
   "outputs": [
    {
     "data": {
      "text/html": [
       "<div>\n",
       "<style scoped>\n",
       "    .dataframe tbody tr th:only-of-type {\n",
       "        vertical-align: middle;\n",
       "    }\n",
       "\n",
       "    .dataframe tbody tr th {\n",
       "        vertical-align: top;\n",
       "    }\n",
       "\n",
       "    .dataframe thead th {\n",
       "        text-align: right;\n",
       "    }\n",
       "</style>\n",
       "<table border=\"1\" class=\"dataframe\">\n",
       "  <thead>\n",
       "    <tr style=\"text-align: right;\">\n",
       "      <th></th>\n",
       "      <th>이름</th>\n",
       "      <th>영양성분</th>\n",
       "      <th>용량</th>\n",
       "    </tr>\n",
       "  </thead>\n",
       "  <tbody>\n",
       "    <tr>\n",
       "      <th>36</th>\n",
       "      <td>메타리버 LD100 다이렉트</td>\n",
       "      <td>레몬밤민들레추출복합물(LD100)</td>\n",
       "      <td>NaN</td>\n",
       "    </tr>\n",
       "    <tr>\n",
       "      <th>82</th>\n",
       "      <td>리얼 콤부차 애플사이다비니거</td>\n",
       "      <td>애플사이다비니거</td>\n",
       "      <td>NaN</td>\n",
       "    </tr>\n",
       "    <tr>\n",
       "      <th>89</th>\n",
       "      <td>산삼배양근 신기력 진품 16환</td>\n",
       "      <td>산삼</td>\n",
       "      <td>NaN</td>\n",
       "    </tr>\n",
       "    <tr>\n",
       "      <th>104</th>\n",
       "      <td>발효 황경단 28환</td>\n",
       "      <td>홍삼, 녹용, 침향</td>\n",
       "      <td>NaN</td>\n",
       "    </tr>\n",
       "    <tr>\n",
       "      <th>131</th>\n",
       "      <td>일양6년 홍삼 흑마늘 명품 30포</td>\n",
       "      <td>홍삼, 흑마늘</td>\n",
       "      <td>NaN</td>\n",
       "    </tr>\n",
       "    <tr>\n",
       "      <th>132</th>\n",
       "      <td>일양6년 홍삼 녹용 명품 30포</td>\n",
       "      <td>홍삼, 녹용</td>\n",
       "      <td>NaN</td>\n",
       "    </tr>\n",
       "  </tbody>\n",
       "</table>\n",
       "</div>"
      ],
      "text/plain": [
       "                     이름                영양성분   용량\n",
       "36      메타리버 LD100 다이렉트  레몬밤민들레추출복합물(LD100)  NaN\n",
       "82      리얼 콤부차 애플사이다비니거            애플사이다비니거  NaN\n",
       "89     산삼배양근 신기력 진품 16환                  산삼  NaN\n",
       "104          발효 황경단 28환          홍삼, 녹용, 침향  NaN\n",
       "131  일양6년 홍삼 흑마늘 명품 30포             홍삼, 흑마늘  NaN\n",
       "132   일양6년 홍삼 녹용 명품 30포              홍삼, 녹용  NaN"
      ]
     },
     "execution_count": 4,
     "metadata": {},
     "output_type": "execute_result"
    }
   ],
   "source": [
    "supplement[supplement['용량'].isnull()]\n",
    "# 용량 결측치 확인-> 해당 행들 삭제"
   ]
  },
  {
   "cell_type": "code",
   "execution_count": 5,
   "metadata": {},
   "outputs": [
    {
     "name": "stdout",
     "output_type": "stream",
     "text": [
      "0\n"
     ]
    }
   ],
   "source": [
    "supplement = supplement.dropna(subset=['용량'])\n",
    "print(sum(supplement['용량'].isnull()))"
   ]
  },
  {
   "cell_type": "code",
   "execution_count": 8,
   "metadata": {},
   "outputs": [],
   "source": [
    "supplement = supplement[supplement['이름'] != '[신규 제품 출시로 판매 종료] 류신 프리미엄 정'] # 판매 중단된 제품 삭제"
   ]
  },
  {
   "cell_type": "code",
   "execution_count": 9,
   "metadata": {},
   "outputs": [
    {
     "name": "stdout",
     "output_type": "stream",
     "text": [
      "Unique names:\n",
      " ['아연' '비타민C' '아르기닌' 'rTG 오메가-3' '비타민 B군' '유산균' '비타민D' '포스파티딜세린' '칼슘'\n",
      " '마그네슘' 'MSM' '루테인' '카무트 효소' '류신' '코로솔산' '코엔자임Q10' '맥주효모' '루테인지아잔틴'\n",
      " '콘드로이친 복합물' '쏘팔메토' '코큐텐' '밀크씨슬' '멀티비타민' '콜라겐' '로르산' '멜라토닌' '비오틴' '은행잎추출물'\n",
      " '프로폴리스' '코엔자임 Q10' '저분자피쉬콜라겐' '여주' '철분' '마카' '리포좀 비타민C' '곡물효소' '대마종자유'\n",
      " '보스웰리아' '라이코펜' '카테킨' '모나콜린K' '산양유' '바나바잎 + 유산균' '엘라스틴' '나토키나제' '블랙마카'\n",
      " '양배추추출분말' '흑염소진액' 'MBP' '아누카사과' '비타민E' '포도당' '스페인감초추출물' '은행잎 + 포스파티딜세린'\n",
      " '브로멜라인' '요오드' '구강유산균' '이노시톨' '뮤신' '질유산균' '락티움' '엽록소' '대두레시틴' '공액리놀렌산'\n",
      " '오메가-3' '락토페린' '타트체리' '뮤코다당단백' '커큐민' '감마리놀렌산' '차전자피식이섬유' '모로오렌지' '레몬즙'\n",
      " '알부민' '홍경천 + 테아닌' '히알루론산' '유기농새싹보리' '미슬토' '크랜베리' '베르가못 복합물' '와사비잎' '아마씨유'\n",
      " '효소' '아쉬아간다추출물' 'HCA' '테아닌' '아보카도오일' '프리바이오틱스' '연어코연골추출분말' '새싹보리' '푸룬농축액'\n",
      " '양춘사추출물' '발효효소분말' '링곤베리퓨레추출물' '벌꿀' 'B1' '회화나무열매추출물' '홍삼 성분'\n",
      " '가르시니아캄보지아추출물' '클로렐라' '발효율피추출물' '침향' '콤부차 분말' '엽산']\n"
     ]
    }
   ],
   "source": [
    "unique_nutrient = supplement['영양성분'].unique()\n",
    "print(\"Unique names:\\n\", unique_nutrient)"
   ]
  },
  {
   "cell_type": "code",
   "execution_count": 10,
   "metadata": {},
   "outputs": [
    {
     "name": "stdout",
     "output_type": "stream",
     "text": [
      "Unique names:\n",
      " ['면역엔아연' '메가씨 3000' '메가씨 비타민C 골드 7 플래티넘 6개월' '리얼 아르기닌 파워업 6000'\n",
      " '초임계 알티지 rTG 오메가3' '메리트비 비타민B 콤플렉스' '생유산균 프로바이오틱스 밸런스 100'\n",
      " '리얼 비타민D 5000IU 3개월' '인지력 개선 브레인 액티브 포스파티딜세린' '리얼 칼슘 마그네슘 아연 비타민D'\n",
      " '마그네슘 컴플렉스' '관절 MSM 글루코사민' '눈 건강엔 루테인 프리미엄' '부스터B' '카무트 골드핏 발효효소'\n",
      " '마그네슘 400 컴플렉스 6개월' '류신 단백질 프리미엄 플러스' '바나바 혈당케어 플러스' '메디트리 코큐텐11'\n",
      " '맥주효모 골드' '아이케어 루테인지아잔틴 아스타잔틴 플러스' '종근당건강 비타민D 2000IU 1+1'\n",
      " '리얼 콘드로이친 1200' '홀인원' '닥터팜 코큐텐 밀크씨슬' '리얼 밀크씨슬' '보령 올인원 멀티비타민&미네랄'\n",
      " '비비랩 저분자 콜라겐' '프리미엄 쏘팔코펜 옥타코사놀' '식물성 멜라토닌 멜라테닌 트리플' '익스트림 비오틴 10000'\n",
      " '서클존 징코플러스' '리얼 프로폴리스' '코엔자임 Q10 밸런스 500' '리핏 어린 저분자피쉬콜라겐' '관절엔 엠에스엠'\n",
      " '리얼 여주정 1+1' '철분 헤마Hema-부스터' '블랙마카 2500 1+1' '데일리 혈행케어 초임계 rTG오메가3'\n",
      " '리포좀 비타민C 분말 스틱' '곡물효소 프로바이오틱스' '온유 햄프 대마종자유 식물성 캡슐' '보스웰리아 비타민D'\n",
      " '리얼 보스웰리아' '라이코펜 활력 플러스' '이뮨 프로바이오틱스 100' '바나바 카테킨 혈당 다이어트'\n",
      " '홍국 바나바 오메가3 트리플 레드케어' '산양유 단백질 분말 스틱' '당케어 앤 유산균' '비비랩 더 엘라스틴'\n",
      " '나토키나제 혈행케어 플러스' '더쎈 블랙마카 2000' '데일리 비타민C 1000 골드 플러스' '위편한 위대한 양배추정'\n",
      " '비타민D 4000IU 아연 츄어블' '김소형원방 흑염소 진액' '리얼 유단백추출물 MBP정'\n",
      " '아누카사과 맥주효모 비오틴 플러스 정' '비타민E 컴플렉스' '화이링워터' '리얼 카테킨' '위건강 헬리코박터 프로젝트'\n",
      " '인지력 기억력 포스파티딜세린 징코' '비비랩 프로바이오틱스 더블유 이너케어' '리얼 파인애플 효소' '헬스뱅 요오드'\n",
      " '구강유산균 덴탈 프로바이오틱스 자일리톨' '콜린 미오이노시톨 4000' '자르르 뮤신 콜라겐 락토페린 히알 글루C'\n",
      " '밸런스업 시크릿케어 유산균' '수면 건강 꿀잠 락티움' '스피루리나 밸런스' '대두레시틴 밸런스'\n",
      " '이지다이어트 액티브 공액리놀렌산 CLA' '식물성 오메가-3 컴플렉스 미니' '락토페린' '리얼 몽모랑시 타트체리 100'\n",
      " '미라클 맥주효모 동결건조환' '164 루테인지아잔틴 알티지오메가3 GR' '관절엔 소연골 뮤코다당단백 콘드로이친'\n",
      " '나노셀 수용성 커큐민' '기억력 인지력 포스파티딜세린 징코' '우먼스 감마리놀렌산 밸런스' '띵똥 부드럽게 차전자피식이섬유'\n",
      " '모로오렌지 락토페린 프리미엄정' '하루하나 유기농 레몬착즙' '프리미엄 알부민 플러스' '스트레스 케어 테아닌 홍경천'\n",
      " '비비랩 히알루론산' '유기농 새싹보리 분말' '미슬토 추출 분말 산화아연 프리미엄 정' '리얼 크랜베리정'\n",
      " '베르가못 폴리페놀 추출물 구아검가수분해물 락토페린' '와사비잎 추출물 밸런스업 플러스' '콜레스테롤 케어 발효 홍국'\n",
      " '식물성 아마씨유 리놀렌산 밸런스' '38 발효효소' '수면건강 아쉬아간다' '마시는 가르시니아 다이어트 모로오렌지맛'\n",
      " '릴렉스케어 스트레스엔' '프리미엄 리포좀 비타민C' '퓨어 엑스트라버진 아보카도오일캡슐' '신바이오틱스 3000골드'\n",
      " '익스트림 블랙마카 활력환' '보령 마시는 마그네슘 퀵' '프리미엄 프로테오글리칸 30' '안심 새싹보리정' '리얼그램 변비움'\n",
      " '양춘사 추출물 바나바잎 플러스' '고칼슘 산양유 초유 단백질 밸런스' '발효효소 순' '링곤베리 프리미엄 정' '헛개꿀 밀크씨슬'\n",
      " '이뮨 듀오 멀티비타맥스' '메노센스 퀸' '스페인산 순 유기농 레몬즙 스틱 100' '화이링W' '정관장 일품홍삼'\n",
      " '이지슬림 에브리컷 다이어트' '마그네슘 파워업' '클로렐라 밸런스' '장건강 좋아질 유산균' '프리미엄 발효율피추출물 정'\n",
      " '에너지업 마시는 침향' '콤부타임 톡톡 비타민C+' '리얼그램 활성엽산B']\n"
     ]
    }
   ],
   "source": [
    "unique_names = supplement['이름'].unique()\n",
    "print(\"Unique names:\\n\", unique_names)"
   ]
  },
  {
   "cell_type": "markdown",
   "metadata": {},
   "source": [
    "함께 먹으면 안되는 영양제 조합 추출"
   ]
  },
  {
   "cell_type": "code",
   "execution_count": 19,
   "metadata": {},
   "outputs": [
    {
     "data": {
      "text/html": [
       "<div>\n",
       "<style scoped>\n",
       "    .dataframe tbody tr th:only-of-type {\n",
       "        vertical-align: middle;\n",
       "    }\n",
       "\n",
       "    .dataframe tbody tr th {\n",
       "        vertical-align: top;\n",
       "    }\n",
       "\n",
       "    .dataframe thead th {\n",
       "        text-align: right;\n",
       "    }\n",
       "</style>\n",
       "<table border=\"1\" class=\"dataframe\">\n",
       "  <thead>\n",
       "    <tr style=\"text-align: right;\">\n",
       "      <th></th>\n",
       "      <th>이름</th>\n",
       "      <th>영양성분</th>\n",
       "      <th>용량</th>\n",
       "    </tr>\n",
       "  </thead>\n",
       "  <tbody>\n",
       "    <tr>\n",
       "      <th>0</th>\n",
       "      <td>면역엔아연</td>\n",
       "      <td>아연</td>\n",
       "      <td>28mg</td>\n",
       "    </tr>\n",
       "    <tr>\n",
       "      <th>9</th>\n",
       "      <td>리얼 칼슘 마그네슘 아연 비타민D</td>\n",
       "      <td>칼슘</td>\n",
       "      <td>300mg</td>\n",
       "    </tr>\n",
       "    <tr>\n",
       "      <th>38</th>\n",
       "      <td>철분 헤마Hema-부스터</td>\n",
       "      <td>철분</td>\n",
       "      <td>30mg</td>\n",
       "    </tr>\n",
       "  </tbody>\n",
       "</table>\n",
       "</div>"
      ],
      "text/plain": [
       "                    이름 영양성분     용량\n",
       "0                면역엔아연   아연   28mg\n",
       "9   리얼 칼슘 마그네슘 아연 비타민D   칼슘  300mg\n",
       "38       철분 헤마Hema-부스터   철분   30mg"
      ]
     },
     "execution_count": 19,
     "metadata": {},
     "output_type": "execute_result"
    }
   ],
   "source": [
    "# 칼슘 -> 아연, 철분과 함께 복용하면 X\n",
    "no_with_calcium= supplement[supplement['영양성분'].str.contains('칼슘|아연|철분', na=False)]\n",
    "no_with_calcium"
   ]
  },
  {
   "cell_type": "code",
   "execution_count": 12,
   "metadata": {},
   "outputs": [
    {
     "name": "stdout",
     "output_type": "stream",
     "text": [
      "Unique names:\n",
      " ['면역엔아연' '리얼 칼슘 마그네슘 아연 비타민D' '철분 헤마Hema-부스터']\n"
     ]
    }
   ],
   "source": [
    "unique_names_1 = no_with_calcium['이름'].unique()\n",
    "print(\"Unique names:\\n\", unique_names_1)"
   ]
  },
  {
   "cell_type": "code",
   "execution_count": 14,
   "metadata": {},
   "outputs": [],
   "source": [
    "no_with_omega= supplement[supplement['영양성분'].str.contains('오메가|E', na=False)]"
   ]
  },
  {
   "cell_type": "code",
   "execution_count": 15,
   "metadata": {},
   "outputs": [
    {
     "name": "stdout",
     "output_type": "stream",
     "text": [
      "Unique names:\n",
      " ['초임계 알티지 rTG 오메가3' '데일리 혈행케어 초임계 rTG오메가3' '비타민E 컴플렉스' '식물성 오메가-3 컴플렉스 미니']\n"
     ]
    }
   ],
   "source": [
    "unique_names_2 = no_with_omega['이름'].unique()\n",
    "print(\"Unique names:\\n\", unique_names_2)"
   ]
  },
  {
   "cell_type": "code",
   "execution_count": 17,
   "metadata": {},
   "outputs": [
    {
     "data": {
      "text/html": [
       "<div>\n",
       "<style scoped>\n",
       "    .dataframe tbody tr th:only-of-type {\n",
       "        vertical-align: middle;\n",
       "    }\n",
       "\n",
       "    .dataframe tbody tr th {\n",
       "        vertical-align: top;\n",
       "    }\n",
       "\n",
       "    .dataframe thead th {\n",
       "        text-align: right;\n",
       "    }\n",
       "</style>\n",
       "<table border=\"1\" class=\"dataframe\">\n",
       "  <thead>\n",
       "    <tr style=\"text-align: right;\">\n",
       "      <th></th>\n",
       "      <th>이름</th>\n",
       "      <th>영양성분</th>\n",
       "      <th>용량</th>\n",
       "    </tr>\n",
       "  </thead>\n",
       "  <tbody>\n",
       "    <tr>\n",
       "      <th>7</th>\n",
       "      <td>리얼 비타민D 5000IU 3개월</td>\n",
       "      <td>비타민D</td>\n",
       "      <td>5,000IU</td>\n",
       "    </tr>\n",
       "    <tr>\n",
       "      <th>10</th>\n",
       "      <td>마그네슘 컴플렉스</td>\n",
       "      <td>마그네슘</td>\n",
       "      <td>440mg</td>\n",
       "    </tr>\n",
       "    <tr>\n",
       "      <th>15</th>\n",
       "      <td>마그네슘 400 컴플렉스 6개월</td>\n",
       "      <td>마그네슘</td>\n",
       "      <td>400mg</td>\n",
       "    </tr>\n",
       "    <tr>\n",
       "      <th>21</th>\n",
       "      <td>종근당건강 비타민D 2000IU 1+1</td>\n",
       "      <td>비타민D</td>\n",
       "      <td>2,000IU</td>\n",
       "    </tr>\n",
       "    <tr>\n",
       "      <th>57</th>\n",
       "      <td>비타민D 4000IU 아연 츄어블</td>\n",
       "      <td>비타민D</td>\n",
       "      <td>4,000IU</td>\n",
       "    </tr>\n",
       "    <tr>\n",
       "      <th>110</th>\n",
       "      <td>보령 마시는 마그네슘 퀵</td>\n",
       "      <td>마그네슘</td>\n",
       "      <td>150mg</td>\n",
       "    </tr>\n",
       "    <tr>\n",
       "      <th>125</th>\n",
       "      <td>마그네슘 파워업</td>\n",
       "      <td>마그네슘</td>\n",
       "      <td>150mg</td>\n",
       "    </tr>\n",
       "  </tbody>\n",
       "</table>\n",
       "</div>"
      ],
      "text/plain": [
       "                        이름  영양성분       용량\n",
       "7       리얼 비타민D 5000IU 3개월  비타민D  5,000IU\n",
       "10               마그네슘 컴플렉스  마그네슘    440mg\n",
       "15       마그네슘 400 컴플렉스 6개월  마그네슘    400mg\n",
       "21   종근당건강 비타민D 2000IU 1+1  비타민D  2,000IU\n",
       "57      비타민D 4000IU 아연 츄어블  비타민D  4,000IU\n",
       "110          보령 마시는 마그네슘 퀵  마그네슘    150mg\n",
       "125               마그네슘 파워업  마그네슘    150mg"
      ]
     },
     "execution_count": 17,
     "metadata": {},
     "output_type": "execute_result"
    }
   ],
   "source": [
    "no_with_magnesium= supplement[supplement['영양성분'].str.contains('마그네슘|D', na=False)]\n",
    "no_with_magnesium"
   ]
  },
  {
   "cell_type": "code",
   "execution_count": 18,
   "metadata": {},
   "outputs": [
    {
     "name": "stdout",
     "output_type": "stream",
     "text": [
      "Unique names:\n",
      " ['리얼 비타민D 5000IU 3개월' '마그네슘 컴플렉스' '마그네슘 400 컴플렉스 6개월'\n",
      " '종근당건강 비타민D 2000IU 1+1' '비타민D 4000IU 아연 츄어블' '보령 마시는 마그네슘 퀵' '마그네슘 파워업']\n"
     ]
    }
   ],
   "source": [
    "unique_names_3 = no_with_magnesium['이름'].unique()\n",
    "print(\"Unique names:\\n\", unique_names_3)"
   ]
  }
 ],
 "metadata": {
  "kernelspec": {
   "display_name": "Python 3",
   "language": "python",
   "name": "python3"
  },
  "language_info": {
   "codemirror_mode": {
    "name": "ipython",
    "version": 3
   },
   "file_extension": ".py",
   "mimetype": "text/x-python",
   "name": "python",
   "nbconvert_exporter": "python",
   "pygments_lexer": "ipython3",
   "version": "3.12.5"
  }
 },
 "nbformat": 4,
 "nbformat_minor": 2
}
