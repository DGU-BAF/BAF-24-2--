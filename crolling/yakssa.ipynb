{
 "cells": [
  {
   "cell_type": "code",
   "execution_count": 155,
   "metadata": {},
   "outputs": [],
   "source": [
    "from selenium import webdriver\n",
    "from webdriver_manager.chrome import ChromeDriverManager\n",
    "from bs4 import BeautifulSoup\n",
    "import requests\n",
    "from selenium.webdriver.chrome.service import Service\n",
    "from selenium.webdriver.common.by import By\n",
    "from selenium.webdriver.common.keys import Keys\n",
    "import time\n",
    "from selenium.webdriver.chrome.options import Options\n",
    "from selenium.webdriver.support.ui import WebDriverWait\n",
    "from selenium.webdriver.support import expected_conditions as EC\n",
    "import pandas as pd"
   ]
  },
  {
   "cell_type": "code",
   "execution_count": 156,
   "metadata": {},
   "outputs": [
    {
     "name": "stderr",
     "output_type": "stream",
     "text": [
      "C:\\Users\\jeong\\AppData\\Local\\Temp\\ipykernel_10580\\555433655.py:1: DeprecationWarning: executable_path has been deprecated, please pass in a Service object\n",
      "  driver = webdriver.Chrome(executable_path=\"C:/webdriver/chromedriver-win64/chromedriver.exe\")\n"
     ]
    }
   ],
   "source": [
    "driver = webdriver.Chrome(executable_path=\"C:/webdriver/chromedriver-win64/chromedriver.exe\")"
   ]
  },
  {
   "cell_type": "code",
   "execution_count": 157,
   "metadata": {},
   "outputs": [],
   "source": [
    "driver.get(\"https://yakssamall.com/shop\")"
   ]
  },
  {
   "cell_type": "code",
   "execution_count": 158,
   "metadata": {},
   "outputs": [],
   "source": [
    "load_more_selector = \"a.btn _more_btn more_btn\" "
   ]
  },
  {
   "cell_type": "code",
   "execution_count": 159,
   "metadata": {},
   "outputs": [
    {
     "name": "stdout",
     "output_type": "stream",
     "text": [
      "No more '더보기' button or error: Message: \n",
      "Stacktrace:\n",
      "\tGetHandleVerifier [0x00007FF622FBFDA5+29557]\n",
      "\t(No symbol) [0x00007FF622F32240]\n",
      "\t(No symbol) [0x00007FF622DEB6EA]\n",
      "\t(No symbol) [0x00007FF622E3FA15]\n",
      "\t(No symbol) [0x00007FF622E3FC6C]\n",
      "\t(No symbol) [0x00007FF622E8BB07]\n",
      "\t(No symbol) [0x00007FF622E6753F]\n",
      "\t(No symbol) [0x00007FF622E888A3]\n",
      "\t(No symbol) [0x00007FF622E672A3]\n",
      "\t(No symbol) [0x00007FF622E312DF]\n",
      "\t(No symbol) [0x00007FF622E32451]\n",
      "\tGetHandleVerifier [0x00007FF6232EDCBD+3363469]\n",
      "\tGetHandleVerifier [0x00007FF623339B47+3674391]\n",
      "\tGetHandleVerifier [0x00007FF62332EAEB+3629243]\n",
      "\tGetHandleVerifier [0x00007FF62307FC66+815670]\n",
      "\t(No symbol) [0x00007FF622F3D6EF]\n",
      "\t(No symbol) [0x00007FF622F392B4]\n",
      "\t(No symbol) [0x00007FF622F39450]\n",
      "\t(No symbol) [0x00007FF622F281FF]\n",
      "\tBaseThreadInitThunk [0x00007FFEBE9D257D+29]\n",
      "\tRtlUserThreadStart [0x00007FFEC008AF28+40]\n",
      "\n"
     ]
    }
   ],
   "source": [
    "# 페이지 끝까지 데이터를 가져오기 위한 반복\n",
    "while True:\n",
    "    try:\n",
    "        # \"더보기\" 버튼이 있는지 대기 (최대 10초)\n",
    "        load_more_button = WebDriverWait(driver, 10).until(\n",
    "            EC.element_to_be_clickable((By.CSS_SELECTOR, load_more_selector))\n",
    "        )\n",
    "\n",
    "        # \"더보기\" 버튼 클릭\n",
    "        load_more_button.click()\n",
    "\n",
    "        # 클릭 후 데이터가 로드될 시간을 기다림\n",
    "        time.sleep(2)  # 페이지 로드에 필요한 시간\n",
    "\n",
    "    except Exception as e:\n",
    "        # 더 이상 \"더보기\" 버튼이 없거나 오류 발생 시 반복 종료\n",
    "        print(\"No more '더보기' button or error:\", e)\n",
    "        break\n",
    "\n",
    "\n"
   ]
  },
  {
   "cell_type": "code",
   "execution_count": 160,
   "metadata": {},
   "outputs": [],
   "source": [
    "for i in range(1,8):\n",
    "    driver.get(\"https://yakssamall.com/shop?page={}\".format(i))\n",
    "    "
   ]
  },
  {
   "cell_type": "code",
   "execution_count": 161,
   "metadata": {},
   "outputs": [],
   "source": [
    "supplement_links = []"
   ]
  },
  {
   "cell_type": "code",
   "execution_count": 162,
   "metadata": {},
   "outputs": [],
   "source": [
    "prod = driver.find_elements(By.CSS_SELECTOR, \"div.item-detail\")"
   ]
  },
  {
   "cell_type": "code",
   "execution_count": 163,
   "metadata": {},
   "outputs": [
    {
     "data": {
      "text/plain": [
       "133"
      ]
     },
     "execution_count": 163,
     "metadata": {},
     "output_type": "execute_result"
    }
   ],
   "source": [
    "len(prod)"
   ]
  },
  {
   "cell_type": "code",
   "execution_count": 166,
   "metadata": {},
   "outputs": [
    {
     "name": "stdout",
     "output_type": "stream",
     "text": [
      "{'메가씨 3000': ['비타민C', '3,000mg']}\n",
      "{'면역엔아연': ['아연', '28mg']}\n",
      "{'메가씨 비타민C 골드 7 플래티넘 6개월': ['비타민C', '1,000mg']}\n",
      "{'리얼 아르기닌 파워업 6000': ['아르기닌', '6,000mg']}\n",
      "{'초임계 알티지 rTG 오메가3': ['rTG 오메가-3', '600mg']}\n",
      "{'생유산균 프로바이오틱스 밸런스 100': ['유산균', '100억 균수']}\n",
      "{'메리트비 비타민B 콤플렉스': ['비타민 B군', '비타민 B1 50mg']}\n",
      "{'인지력 개선 브레인 액티브 포스파티딜세린': ['포스파티딜세린', '300mg']}\n",
      "{'리얼 비타민D 5000IU 3개월': ['비타민D', '5,000IU']}\n",
      "{'눈 건강엔 루테인 프리미엄': ['루테인', '20mg']}\n",
      "{'리얼 칼슘 마그네슘 아연 비타민D': ['칼슘', '300mg']}\n",
      "{'마그네슘 컴플렉스': ['마그네슘', '440mg']}\n",
      "{'부스터B': ['비타민 B군', '비타민 B1 60mg 외 9종']}\n",
      "{'관절 MSM 글루코사민': ['MSM', '1,500mg + 글루코사민']}\n",
      "{'바나바 혈당케어 플러스': ['코로솔산', '1.3mg']}\n",
      "{'마그네슘 400 컴플렉스 6개월': ['마그네슘', '400mg']}\n",
      "{'카무트 골드핏 발효효소': ['카무트 효소', '851,600unit']}\n",
      "{'메디트리 코큐텐11': ['코엔자임Q10', '100mg']}\n",
      "{'류신 단백질 프리미엄 플러스': ['류신', '400mg']}\n",
      "{'아이케어 루테인지아잔틴 아스타잔틴 플러스': ['루테인지아잔틴', '20mg']}\n",
      "{'맥주효모 골드': ['맥주효모', '650mg']}\n",
      "{'종근당건강 비타민D 2000IU 1+1': ['비타민D', '2,000IU']}\n",
      "{'리얼 밀크씨슬': ['밀크씨슬', '실리마린 130mg']}\n",
      "{'리얼 콘드로이친 1200': ['콘드로이친 복합물', '1,200mg']}\n",
      "{'보령 올인원 멀티비타민&미네랄': ['멀티비타민', '23종']}\n",
      "{'식물성 멜라토닌 멜라테닌 트리플': ['멜라토닌', '2mg']}\n",
      "{'리얼 프로폴리스': ['프로폴리스', '플라보노이드 17mg']}\n",
      "{'비비랩 저분자 콜라겐': ['콜라겐', '1,200mg']}\n",
      "{'프리미엄 쏘팔코펜 옥타코사놀': ['로르산', '115mg']}\n",
      "{'리얼 여주정 1+1': ['여주', '500mg']}\n",
      "{'곡물효소 프로바이오틱스': ['곡물효소', '403,000unit']}\n",
      "{'홀인원': ['쏘팔메토', '로르산 70mg']}\n",
      "{'관절엔 엠에스엠': ['MSM', '2,000mg']}\n",
      "{'리핏 어린 저분자피쉬콜라겐': ['저분자피쉬콜라겐', '1,000mg']}\n",
      "{'서클존 징코플러스': ['은행잎추출물', '120mg']}\n",
      "{'익스트림 비오틴 10000': ['비오틴', '10,000μg']}\n",
      "{'데일리 혈행케어 초임계 rTG오메가3': ['rTG 오메가-3', '600mg']}\n",
      "{'메타리버 LD100 다이렉트': ['레몬밤민들레추출복합물(LD100)', ' ']}\n",
      "{'닥터팜 코큐텐 밀크씨슬': ['코큐텐', '100mg']}\n",
      "{'코엔자임 Q10 밸런스 500': ['코엔자임 Q10', '100mg']}\n",
      "{'이뮨 프로바이오틱스 100': ['유산균', '100억 균수']}\n",
      "{'바나바 카테킨 혈당 다이어트': ['카테킨', '300mg']}\n",
      "{'리포좀 비타민C 분말 스틱': ['리포좀 비타민C', '250mg']}\n",
      "{'온유 햄프 대마종자유 식물성 캡슐': ['대마종자유', '1,000mg']}\n",
      "{'블랙마카 2500 1+1': ['마카', '2,500mg']}\n",
      "{'보스웰리아 비타민D': ['보스웰리아', '510mg']}\n",
      "{'데일리 비타민C 1000 골드 플러스': ['비타민C', '1,000mg']}\n",
      "{'리얼 파인애플 효소': ['브로멜라인', '3,000unit']}\n",
      "{'당케어 앤 유산균': ['바나바잎 + 유산균', '20억']}\n",
      "{'라이코펜 활력 플러스': ['라이코펜', '7mg']}\n",
      "{'철분 헤마Hema-부스터': ['철분', '30mg']}\n",
      "{'위편한 위대한 양배추정': ['양배추추출분말', '297mg']}\n",
      "{'리얼 카테킨': ['카테킨', '300mg']}\n",
      "{'비타민D 4000IU 아연 츄어블': ['비타민D', '4,000IU']}\n",
      "{'김소형원방 흑염소 진액': ['흑염소진액', '2,100mg']}\n",
      "{'나토키나제 혈행케어 플러스': ['나토키나제', '2,008U']}\n",
      "{'더쎈 블랙마카 2000': ['블랙마카', '2,000mg']}\n",
      "{'구강유산균 덴탈 프로바이오틱스 자일리톨': ['구강유산균', '17종']}\n",
      "{'리얼 유단백추출물 MBP정': ['MBP', '212.5mg']}\n",
      "{'화이링워터': ['포도당', '95mmol/L']}\n",
      "{'리얼 보스웰리아': ['보스웰리아', '500mg']}\n",
      "{'비비랩 프로바이오틱스 더블유 이너케어': ['유산균', '50억']}\n",
      "{'비비랩 더 엘라스틴': ['엘라스틴', '100mg']}\n",
      "{'산양유 단백질 분말 스틱': ['산양유', '700mg']}\n",
      "{'비타민E 컴플렉스': ['비타민E', '400IU']}\n",
      "{'락토페린': ['락토페린', '순도 95% 이상']}\n",
      "{'리얼 몽모랑시 타트체리 100': ['타트체리', '420과']}\n",
      "{'164 루테인지아잔틴 알티지오메가3 GR': ['루테인', '16mg + 지아잔틴']}\n",
      "{'헬스뱅 요오드': ['요오드', '2,400μg']}\n",
      "{'수면 건강 꿀잠 락티움': ['락티움', '300mg']}\n",
      "{'기억력 인지력 포스파티딜세린 징코': ['포스파티딜세린', '300mg + 은행잎추출물']}\n",
      "{'아누카사과 맥주효모 비오틴 플러스 정': ['아누카사과', '405mg']}\n",
      "{'콜린 미오이노시톨 4000': ['이노시톨', '4,000mg']}\n",
      "{'모로오렌지 락토페린 프리미엄정': ['모로오렌지', '560mg']}\n",
      "{'프리미엄 리포좀 비타민C': ['리포좀 비타민C', '500mg']}\n",
      "{'미라클 맥주효모 동결건조환': ['맥주효모', '2,100mg']}\n",
      "{'인지력 기억력 포스파티딜세린 징코': ['은행잎 + 포스파티딜세린', '300mg']}\n",
      "{'자르르 뮤신 콜라겐 락토페린 히알 글루C': ['뮤신', '1.5mg']}\n",
      "{'리얼 콤부차 애플사이다비니거': ['애플사이다비니거', ' ']}\n",
      "{'홍국 바나바 오메가3 트리플 레드케어': ['모나콜린K', '4mg']}\n",
      "{'밸런스업 시크릿케어 유산균': ['질유산균', '10억']}\n",
      "{'리얼 크랜베리정': ['크랜베리', '495mg']}\n",
      "{'나노셀 수용성 커큐민': ['커큐민', '180mg']}\n",
      "{'스피루리나 밸런스': ['엽록소', '12mg']}\n",
      "{'대두레시틴 밸런스': ['대두레시틴', '1,200mg']}\n",
      "{'수면건강 아쉬아간다': ['아쉬아간다추출물', '120mg']}\n",
      "{'띵똥 부드럽게 차전자피식이섬유': ['차전자피식이섬유', '4,500mg']}\n",
      "{'신바이오틱스 3000골드': ['프리바이오틱스', '3,000mg']}\n",
      "{'식물성 오메가-3 컴플렉스 미니': ['오메가-3', '516mg']}\n",
      "{'산삼배양근 신기력 진품 16환': ['산삼', ' ']}\n",
      "{'스트레스 케어 테아닌 홍경천': ['홍경천 + 테아닌', '200mg']}\n",
      "{'비비랩 히알루론산': ['히알루론산', '120mg']}\n",
      "{'유기농 새싹보리 분말': ['유기농새싹보리', '1,000mg']}\n",
      "{'관절엔 소연골 뮤코다당단백 콘드로이친': ['뮤코다당단백', '1,200mg']}\n",
      "{'콜레스테롤 케어 발효 홍국': ['모나콜린K', '8mg']}\n",
      "{'고칼슘 산양유 초유 단백질 밸런스': ['산양유', '2,000mg']}\n",
      "{'이지다이어트 액티브 공액리놀렌산 CLA': ['공액리놀렌산', '1,600mg']}\n",
      "{'식물성 아마씨유 리놀렌산 밸런스': ['아마씨유', '1,000mg']}\n",
      "{'우먼스 감마리놀렌산 밸런스': ['감마리놀렌산', '210mg']}\n",
      "{'38 발효효소': ['효소', '660unit']}\n",
      "{'발효효소 순': ['발효효소분말', '3,000mg']}\n",
      "{'위건강 헬리코박터 프로젝트': ['스페인감초추출물', '150mg']}\n",
      "{'마시는 가르시니아 다이어트 모로오렌지맛': ['HCA', '750mg']}\n",
      "{'릴렉스케어 스트레스엔': ['테아닌', '250mg']}\n",
      "{'프리미엄 프로테오글리칸 30': ['연어코연골추출분말', '30mg']}\n",
      "{'안심 새싹보리정': ['새싹보리', '920mg']}\n",
      "{'미슬토 추출 분말 산화아연 프리미엄 정': ['미슬토', '540mg']}\n",
      "{'베르가못 폴리페놀 추출물 구아검가수분해물 락토페린': ['베르가못 복합물', '540mg']}\n",
      "{'와사비잎 추출물 밸런스업 플러스': ['와사비잎', '540mg']}\n",
      "{'프리미엄 알부민 플러스': ['알부민', '300mg']}\n",
      "{'리얼그램 변비움': ['푸룬농축액', '420mg']}\n",
      "{'양춘사 추출물 바나바잎 플러스': ['양춘사추출물', '500mg']}\n",
      "{'링곤베리 프리미엄 정': ['링곤베리퓨레추출물', '200mg']}\n",
      "{'헛개꿀 밀크씨슬': ['벌꿀', '9,753mg']}\n",
      "{'이뮨 듀오 멀티비타맥스': ['B1', '25mg 포함 멀티비타민']}\n",
      "{'퓨어 엑스트라버진 아보카도오일캡슐': ['아보카도오일', '1,000mg']}\n",
      "{'메노센스 퀸': ['회화나무열매추출물', '350mg']}\n",
      "{'발효 황경단 28환': ['홍삼, 녹용, 침향', ' ']}\n",
      "{'하루하나 유기농 레몬착즙': ['레몬즙', '20,000mg']}\n",
      "{'스페인산 순 유기농 레몬즙 스틱 100': ['레몬즙', '20,000mg']}\n",
      "{'프리미엄 발효율피추출물 정': ['발효율피추출물', '700mg']}\n",
      "{'화이링W': ['포도당', '115mmol/L']}\n",
      "{'정관장 일품홍삼': ['홍삼 성분', '26.95mg']}\n",
      "{'이지슬림 에브리컷 다이어트': ['가르시니아캄보지아추출물', '750mg']}\n",
      "{'마그네슘 파워업': ['마그네슘', '150mg']}\n",
      "{'클로렐라 밸런스': ['클로렐라', '500mg']}\n",
      "{'장건강 좋아질 유산균': ['유산균', '10억 균수 제품']}\n",
      "{'에너지업 마시는 침향': ['침향', '4.39ml']}\n",
      "{'콤부타임 톡톡 비타민C+': ['콤부차 분말', '500mg']}\n",
      "{'일양6년 홍삼 흑마늘 명품 30포': ['홍삼, 흑마늘', ' ']}\n",
      "{'일양6년 홍삼 녹용 명품 30포': ['홍삼, 녹용', ' ']}\n",
      "{'[신규 제품 출시로 판매 종료] 류신 프리미엄 정': ['류신', '100mg']}\n",
      "{'리얼그램 활성엽산B': ['엽산', '5-MTHF 800ug']}\n"
     ]
    }
   ],
   "source": [
    "for i in range(0,len(prod)):\n",
    "    proc_name = prod[i].text.split(\"\\n\")[1].strip()\n",
    "    proc_elem = prod[i].text.split(\"\\n\")[0].split(\"|\")[0].strip()\n",
    "    if(len(prod[i].text.split(\"\\n\")[0].split(\"|\"))>1):\n",
    "        proc_per = prod[i].text.split(\"\\n\")[0].split(\"|\")[1].strip()\n",
    "    else:\n",
    "        proc_per = ' '\n",
    "    print({proc_name:[proc_elem,proc_per]})\n",
    "    supplement_links.append({proc_name:[proc_elem,proc_per]})"
   ]
  },
  {
   "cell_type": "code",
   "execution_count": 167,
   "metadata": {},
   "outputs": [
    {
     "data": {
      "text/plain": [
       "133"
      ]
     },
     "execution_count": 167,
     "metadata": {},
     "output_type": "execute_result"
    }
   ],
   "source": [
    "len(supplement_links)"
   ]
  },
  {
   "cell_type": "code",
   "execution_count": 168,
   "metadata": {},
   "outputs": [
    {
     "data": {
      "text/html": [
       "<div>\n",
       "<style scoped>\n",
       "    .dataframe tbody tr th:only-of-type {\n",
       "        vertical-align: middle;\n",
       "    }\n",
       "\n",
       "    .dataframe tbody tr th {\n",
       "        vertical-align: top;\n",
       "    }\n",
       "\n",
       "    .dataframe thead th {\n",
       "        text-align: right;\n",
       "    }\n",
       "</style>\n",
       "<table border=\"1\" class=\"dataframe\">\n",
       "  <thead>\n",
       "    <tr style=\"text-align: right;\">\n",
       "      <th></th>\n",
       "      <th>이름</th>\n",
       "      <th>영양성분</th>\n",
       "      <th>용량</th>\n",
       "    </tr>\n",
       "  </thead>\n",
       "  <tbody>\n",
       "    <tr>\n",
       "      <th>0</th>\n",
       "      <td>메가씨 3000</td>\n",
       "      <td>비타민C</td>\n",
       "      <td>3,000mg</td>\n",
       "    </tr>\n",
       "    <tr>\n",
       "      <th>1</th>\n",
       "      <td>면역엔아연</td>\n",
       "      <td>아연</td>\n",
       "      <td>28mg</td>\n",
       "    </tr>\n",
       "    <tr>\n",
       "      <th>2</th>\n",
       "      <td>메가씨 비타민C 골드 7 플래티넘 6개월</td>\n",
       "      <td>비타민C</td>\n",
       "      <td>1,000mg</td>\n",
       "    </tr>\n",
       "    <tr>\n",
       "      <th>3</th>\n",
       "      <td>리얼 아르기닌 파워업 6000</td>\n",
       "      <td>아르기닌</td>\n",
       "      <td>6,000mg</td>\n",
       "    </tr>\n",
       "    <tr>\n",
       "      <th>4</th>\n",
       "      <td>초임계 알티지 rTG 오메가3</td>\n",
       "      <td>rTG 오메가-3</td>\n",
       "      <td>600mg</td>\n",
       "    </tr>\n",
       "    <tr>\n",
       "      <th>...</th>\n",
       "      <td>...</td>\n",
       "      <td>...</td>\n",
       "      <td>...</td>\n",
       "    </tr>\n",
       "    <tr>\n",
       "      <th>128</th>\n",
       "      <td>콤부타임 톡톡 비타민C+</td>\n",
       "      <td>콤부차 분말</td>\n",
       "      <td>500mg</td>\n",
       "    </tr>\n",
       "    <tr>\n",
       "      <th>129</th>\n",
       "      <td>일양6년 홍삼 흑마늘 명품 30포</td>\n",
       "      <td>홍삼, 흑마늘</td>\n",
       "      <td></td>\n",
       "    </tr>\n",
       "    <tr>\n",
       "      <th>130</th>\n",
       "      <td>일양6년 홍삼 녹용 명품 30포</td>\n",
       "      <td>홍삼, 녹용</td>\n",
       "      <td></td>\n",
       "    </tr>\n",
       "    <tr>\n",
       "      <th>131</th>\n",
       "      <td>[신규 제품 출시로 판매 종료] 류신 프리미엄 정</td>\n",
       "      <td>류신</td>\n",
       "      <td>100mg</td>\n",
       "    </tr>\n",
       "    <tr>\n",
       "      <th>132</th>\n",
       "      <td>리얼그램 활성엽산B</td>\n",
       "      <td>엽산</td>\n",
       "      <td>5-MTHF 800ug</td>\n",
       "    </tr>\n",
       "  </tbody>\n",
       "</table>\n",
       "<p>133 rows × 3 columns</p>\n",
       "</div>"
      ],
      "text/plain": [
       "                              이름       영양성분            용량\n",
       "0                       메가씨 3000       비타민C       3,000mg\n",
       "1                          면역엔아연         아연          28mg\n",
       "2         메가씨 비타민C 골드 7 플래티넘 6개월       비타민C       1,000mg\n",
       "3               리얼 아르기닌 파워업 6000       아르기닌       6,000mg\n",
       "4               초임계 알티지 rTG 오메가3  rTG 오메가-3         600mg\n",
       "..                           ...        ...           ...\n",
       "128                콤부타임 톡톡 비타민C+     콤부차 분말         500mg\n",
       "129           일양6년 홍삼 흑마늘 명품 30포    홍삼, 흑마늘              \n",
       "130            일양6년 홍삼 녹용 명품 30포     홍삼, 녹용              \n",
       "131  [신규 제품 출시로 판매 종료] 류신 프리미엄 정         류신         100mg\n",
       "132                   리얼그램 활성엽산B         엽산  5-MTHF 800ug\n",
       "\n",
       "[133 rows x 3 columns]"
      ]
     },
     "execution_count": 168,
     "metadata": {},
     "output_type": "execute_result"
    }
   ],
   "source": [
    "data = []\n",
    "\n",
    "# 데이터를 리스트에 추가\n",
    "for item in supplement_links:\n",
    "    for name, values in item.items():\n",
    "        # 각 제품의 이름, 영양 성분, 용량을 리스트에 추가\n",
    "        data.append([name, values[0].strip(), values[1].strip()])\n",
    "\n",
    "# DataFrame으로 변환\n",
    "df = pd.DataFrame(data, columns=['이름', '영양성분', '용량'])\n",
    "\n",
    "# 결과 출력\n",
    "df"
   ]
  },
  {
   "cell_type": "code",
   "execution_count": 154,
   "metadata": {},
   "outputs": [
    {
     "name": "stdout",
     "output_type": "stream",
     "text": [
      "CSV 파일로 저장되었습니다.\n"
     ]
    }
   ],
   "source": [
    "path = \"C:/Users/jeong/Desktop/baf/supplements.csv\"\n",
    "df.to_csv(path, index=False, encoding='utf-8-sig')\n",
    "\n",
    "print(\"CSV 파일로 저장되었습니다.\")"
   ]
  }
 ],
 "metadata": {
  "kernelspec": {
   "display_name": "Python 3 (ipykernel)",
   "language": "python",
   "name": "python3"
  }
 },
 "nbformat": 4,
 "nbformat_minor": 2
}
