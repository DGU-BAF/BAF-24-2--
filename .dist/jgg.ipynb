{
 "cells": [
  {
   "cell_type": "code",
   "execution_count": 17,
   "metadata": {},
   "outputs": [],
   "source": [
    "from selenium import webdriver\n",
    "from webdriver_manager.chrome import ChromeDriverManager\n",
    "from bs4 import BeautifulSoup\n",
    "import requests"
   ]
  },
  {
   "cell_type": "code",
   "execution_count": 14,
   "metadata": {},
   "outputs": [
    {
     "name": "stderr",
     "output_type": "stream",
     "text": [
      "C:\\Users\\jeong\\AppData\\Local\\Temp\\ipykernel_4220\\555433655.py:1: DeprecationWarning: executable_path has been deprecated, please pass in a Service object\n",
      "  driver = webdriver.Chrome(executable_path=\"C:/webdriver/chromedriver-win64/chromedriver.exe\")\n"
     ]
    }
   ],
   "source": [
    "driver = webdriver.Chrome(executable_path=\"C:/webdriver/chromedriver-win64/chromedriver.exe\")"
   ]
  },
  {
   "cell_type": "code",
   "execution_count": 15,
   "metadata": {},
   "outputs": [],
   "source": [
    "driver.get(\"https://www.iherb.com/search?kw=%EB%82%98%EC%9A%B0%ED%91%B8%EB%93%9C\")"
   ]
  },
  {
   "cell_type": "code",
   "execution_count": 21,
   "metadata": {},
   "outputs": [
    {
     "name": "stdout",
     "output_type": "stream",
     "text": [
      "<!DOCTYPE html>\n",
      "<html lang=\"en-US\">\n",
      " <head>\n",
      "  <title>\n",
      "   Just a moment...\n",
      "  </title>\n",
      "  <meta content=\"text/html; charset=utf-8\" http-equiv=\"Content-Type\"/>\n",
      "  <meta content=\"IE=Edge\" http-equiv=\"X-UA-Compatible\"/>\n",
      "  <meta content=\"noindex,nofollow\" name=\"robots\"/>\n",
      "  <meta content=\"width=device-width,initial-scale=1\" name=\"viewport\"/>\n",
      "  <style>\n",
      "   *{box-sizing:border-box;margin:0;padding:0}html{line-height:1.15;-webkit-text-size-adjust:100%;color:#313131;font-family:system-ui,-apple-system,BlinkMacSystemFont,Segoe UI,Roboto,Helvetica Neue,Arial,Noto Sans,sans-serif,Apple Color Emoji,Segoe UI Emoji,Segoe UI Symbol,Noto Color Emoji}body{display:flex;flex-direction:column;height:100vh;min-height:100vh}.main-content{margin:8rem auto;max-width:60rem;padding-left:1.5rem}@media (width <= 720px){.main-content{margin-top:4rem}}.h2{font-size:1.5rem;font-weight:500;line-height:2.25rem}@media (width <= 720px){.h2{font-size:1.25rem;line-height:1.5rem}}#challenge-error-text{background-image:url(data:image/svg+xml;base64,PHN2ZyB4bWxucz0iaHR0cDovL3d3dy53My5vcmcvMjAwMC9zdmciIHdpZHRoPSIzMiIgaGVpZ2h0PSIzMiIgZmlsbD0ibm9uZSI+PHBhdGggZmlsbD0iI0IyMEYwMyIgZD0iTTE2IDNhMTMgMTMgMCAxIDAgMTMgMTNBMTMuMDE1IDEzLjAxNSAwIDAgMCAxNiAzbTAgMjRhMTEgMTEgMCAxIDEgMTEtMTEgMTEuMDEgMTEuMDEgMCAwIDEtMTEgMTEiLz48cGF0aCBmaWxsPSIjQjIwRjAzIiBkPSJNMTcuMDM4IDE4LjYxNUgxNC44N0wxNC41NjMgOS41aDIuNzgzem0tMS4wODQgMS40MjdxLjY2IDAgMS4wNTcuMzg4LjQwNy4zODkuNDA3Ljk5NCAwIC41OTYtLjQwNy45ODQtLjM5Ny4zOS0xLjA1Ny4zODktLjY1IDAtMS4wNTYtLjM4OS0uMzk4LS4zODktLjM5OC0uOTg0IDAtLjU5Ny4zOTgtLjk4NS40MDYtLjM5NyAxLjA1Ni0uMzk3Ii8+PC9zdmc+);background-repeat:no-repeat;background-size:contain;padding-left:34px}@media (prefers-color-scheme:dark){body{background-color:#222;color:#d9d9d9}}\n",
      "  </style>\n",
      "  <meta content=\"390\" http-equiv=\"refresh\"/>\n",
      " </head>\n",
      " <body class=\"no-js\">\n",
      "  <div class=\"main-wrapper\" role=\"main\">\n",
      "   <div class=\"main-content\">\n",
      "    <noscript>\n",
      "     <div class=\"h2\">\n",
      "      <span id=\"challenge-error-text\">\n",
      "       Enable JavaScript and cookies to continue\n",
      "      </span>\n",
      "     </div>\n",
      "    </noscript>\n",
      "   </div>\n",
      "  </div>\n",
      "  <script>\n",
      "   (function(){window._cf_chl_opt={cvId: '3',cZone: \"www.iherb.com\",cType: 'managed',cNounce: '11569',cRay: '8c67f5ab4cc2d1f6',cHash: 'f88e1dd3c58e700',cUPMDTk: \"\\/search?kw=%EB%82%98%EC%9A%B0%ED%91%B8%EB%93%9C&__cf_chl_tk=.XLNC9ycZFEQN76VNO2nYlTFezE9NTUzWwf13PQQAwM-1726899734-0.0.1.1-4521\",cFPWv: 'g',cTTimeMs: '1000',cMTimeMs: '390000',cTplV: 5,cTplB: 'cf',cK: \"\",fa: \"\\/search?kw=%EB%82%98%EC%9A%B0%ED%91%B8%EB%93%9C&__cf_chl_f_tk=.XLNC9ycZFEQN76VNO2nYlTFezE9NTUzWwf13PQQAwM-1726899734-0.0.1.1-4521\",md: \"UarKM8UJZWVFZ.kdRZWaQZIXNDP9ES3j_LPIEQllslM-1726899734-1.1.1.1-A01Dv3rB7C6Bp5Xv6pb6HrKhOiunr5vcIVYHKs8eWb_MqredyVhUsV0KLIr8_KnQNiBetGFT8hNxwmq3fdw7CrkTo9TvONd9MgxdGINTI5_rOQrK.PcebsJDDsu9b34fS72q3bxnhnupGNhVuFd7K3jVR4EO_7Xqq5TNhNXCsYb8F0572lME9YQ11Cl6eSAXlTC5P67OYApyZ7e4coKkBbQvKjZjAF7L1900mQz_tgq2k9475Z3unmfzx.sik5o0FGMzR76eaOQ0LXLrR3Lxu7Uyqq9SjrNDIAxzZaYqJavPpURnBMRQpgMNgDW8KgOjeoy74QUaKwlmVXq2sAcNvtZyu.O0vYg7muoRNqhPZCTGmDKQyGYsuyg7M7e1dHC_7mQmbITCvr8UEkFClvYFI2a3I0qwveNokR94cuSNFbK44UPC1urhcD1A2Yn3G21Tn4_FviQj21OWIfVz4_Y5LeW.Oy4.e_pj49uY4D60YgQAArzWkqDucwIP7HWGcadAuq3Q0rG.afIlttBhzjqX21Rm.XTsKofkycHzQy9UYeXGt8NHUF15xqhAsVJEydk5Eal3HyzhUDZaDCrFZ9cHsSKt7TbQjSPsV2aCPwb10Unuft9Katuz265ubK81dHEyc7QINnBJZ3UeLyVInHiD53JD3BQL1J8rOJfi7VLN75C8D25F_UDkRt4RyED9VNgBhMudz6fp9o108xCLYrtExj3e.XJUcS1.jw4vf0gUAUyMeaodvDfg_RqQGWg4o0Z8RgR_g55noc4PFztaAMQbE7udMwhBa3PbQAiZZi3ne6xPOQG8IOO9HorpFLNfG29A.5nsjnTJyp94DwgtUJp4zBsnghwVL9nkZ2iqEcqhRYmPBtdmQIDSwGH_H398LPAadVU9QFIIDMv6lJ.6V5k8_GFw14wg6Y6cN5voa_xgeUB10s3rmAcTwQEpTm0yvqaUUNAxci69Z5EZjOIkkxQH5ao3gOiCq.4w6kphXAz9MV3xGA7jYuwWHcBELw9eas2nd7cg.uzoreBpopD_uSBGwjH8Mm1jz9AdsWyh5HdOv2llPWqJdMgwyTU8P.YwQsziTxmIDg7MWY39RlC_tiLfr4aX_KL3ACCHGLyPoTJHpUik.9olqNW5CoQndxGDTFXQM27JQ.AOgcYT2lfkAVVr4UAjzc64SbAlzlSWX5xp9fI73wAEQIY9iLwe7i2vLSyNaYT6PKW1ppO0bk11ycyVqu4JbBQIvXyKhUMlfBgXTZQg3uy5qmgj.MikewUcbN5lpUdw_ivxhvsyqQs5o0dikCeCEifTVcn11C7OIk_am3gXydDS_KDW7C.8ijO.Pvw_m_TKbcF5AjmZbE.vYS4jD0a7vuH5ciddg0YB_nBL8ouMmvheVdo3PTpAzTk6e2hID9tBjh90w1tZ2qLJ1FEjb92_yJ72.bliB.IQV97ssKyHGx4gqYzoUZEdeAgIhYEiZxguVbSZwQeMMdMEhjbY1WkZjpiN3LrPqo8_nITDv6kolkKPwz6U5w3UKH_ZX_8W6HjsiDrYapH4a6s2JKdh5MfBkegE1unRPcuDWey83CGf0m0l0d4mauZy84zqFKP0nvxXckwzcppqHVQ2EDFDwTDIH0jzPonAWKRp3hmTs6RW3_3RNR7jIMvsvCN8OPoLS.Sveat0tj2e9iYS8eqzIqUruzzCW3rZVnZisE9wItgUeXzWNoajoWrSMAcBApEqE2i5vlKY5wLlYdyp1v82ncUwjLkQCOMHgluAMn5ReDgPK5R4TMqunyMpk0K_7Av0P.V06IT13a5QN9ehJZsikKqRditTvufxsqJFKizjrUocDmH.SIemv2xw9xFEnLgTUlmA8FlNjzgFi9DDZZCNGGi51xXiyp_itthOYPWJCFGAktd_fn8FIyK2t119miyJue5hHpFzBo8V4a.aYICvTSWqGHpPOKtPAbmxKHTiQ1qT5oDvQppgdy_of4_6rhcRddYrKIEt2C_Im5xfuXXvb_13vYSTF2bEEvUddteHxG1nGkL4jsxQeyfx7sFxp9vGPOVcQV_jOxY5bFfxPKYN1fGH1wZAkDl1gNuXPSyeXrdfggCjhz_I79itMVQbOAg1TsxV1sD8Bn0b7pRKDVYBWdyzsgafGv6QI_bG1tJl5.tf4ABccCtzLG7x00FHrDgi\",mdrd: \"o9r_jqvdSwcs6DWvquJJLe7L7BN1lChZhqfNFUuR2XQ-1726899734-1.1.1.1-ZkIL8Q4Fu3QU2UX7plWCi.p_q7FdCLQY5GQ1QNB6e_aLyWmVS6D.GNu7Lwud9nzvsItBcXQE4oAN_6icvQHCDltx7xZpdlO.HtXh8Z8g2rgQ2YFa.FwojEWODcINTSB1ccIp98uw.CgWoratPlX2ugqlY.xpRozOLO9JOVPCgdqfQEisLd4QPEMyQ_TTXhDLcCZFUh_2w2AxyHqjf1CHAKi5bWQYSPfigKsxJxLvqgHkdYQZZ7PgHYXVasV4.QcyebKf5grMV8dGA9JqazXbZRx2EbaYGbQrwqOFCigOEPwAPnrevcXU2_o.KpQorc3LFmvsRyp49Q2euP3WrGS_vvAfd.7vQ2kyGv7DodeZw2T53RK.MxKWJqLFA5Iw7QIAr9VjoXXDXx02gBFZJQzZaCak7W0yUNxS8FDq7pZGRVoN2okCKo4owc66eazLhysm3SVA7I_WJQE20shYHVbd4lPSqH54nkffFTrp7DqKLjTUJxnHq7L9BHx0XDaxVd7vbp.67v.VBN9_PsoM7MPvYbaQHijnao2WOWwHeArxUuX32W1LK_7ernbZGL1Na.S8aMQvoLsj_OZNtPwaxvSlPbJRrmn0DHn71na1dYzezDqQY2MCluaeus8STDGAUeWUxS8lTnBlRv.SARXcpS.3G_4YPD6cmHp60sFHBlY7YIf02f49cV64lOu.I2NO4cQ72oAeVUHwYgcqLpUticLjqT3OxsH2pmVbNqTDbrG2jkMRtzPW8Uety1bCked_CzCuQ0uO2XqXg6LCEEJjj4zv9VtS1GtYBs.n19zB4dcoQhKHBtASRoRhtT9mVT01yZvb2Eostu1n5IjKgpSd1g15AqTJBk_ehQbNk3vrq339TW3.MeIyvzph53NL7srpG4CHh7F62ur5z7qYMTYPjD_DiSOrSZS66D4IzYXnw1iL7VjYiSy.oKtJU5jMM4rogmQW.ln.Fp3TVvAz8jJcmwbwMvVCc3zde8RQ0uAhbmrb0SHWub3_O2h9GNalgUv7.mHrH3rQm5VOvv0QKnKc8D.9HJTWkrznJpEJKpSyar4WrMMp0eUtwoJad7dIk8SmCWA_TTz6h5K_uwH5k7jpP4j0qVxxoREWEKFNhSxodau5ERRNZVrNr3Zh.6HAlMwxuT142or18FIEpPfJrEyHp7wVxB_AFvwazY6VVU9Qe0iOSI4kH9k1Ad0vf6auPMemWTqdAwu7uUJoZh.MxuYozacB2gF6OFp7t9PfdO4c2KB2NH1weRGr_TpBzkbCscn5emrxMGJTtucJSCYBMl8keNBi9lNWprhb0ovszW_InlKrPhPugx__2gg5m1oVxg2rHmzBlgiNLuAapNzccEZSWP1boHxUbts9Uv_mf1qu7wOqdfBk.PkNVmyfk.FfyBUO96FGhUNcuGrzAW.PcJD6Ep0EknRo9.MlVliLdgQLeU__MZ4xSCNmux24.N2izp16_SSF2WytlF0BR8nytWGmSiJISLh8sxhmQdxgs9cOpRDJNLKLdAF_jwuMthUid1bOdSV04R.LG_5ZioTKeTT1_t_WHyNk4eFbxkJkERR5xkwPUeUKmDHYWEAlOM0GT_9A5DNedln4R6sClsiTY1Z2kHz5FbtBP5cFh59HuZgC6iH945TSTldbhRVT9mCVU6o3ZBO9uofye1hupihTAq_KSGOyEoM7EZ2PUVxZpx9REG.sOz5I.Lfuz2qBbciBwZwQJtESIylw6L8svZcn1ebcqF.Aa4G4fbeh_y._0Vrb7L9TYe3ZhCu1NrJ0KhjKLJWHDLWr56mWmFgtJ7f51QLpTfaQrGj1mISOFuHl2kxf7.XEMPLW6_IALY9UjGdK81Dm8UWkprPlyTJmgW2bDXSYOSlBfyjLW87Rh67CHw_YVk23ZDmmDQsMmmNrwtNy.9knLfPD.T3Sixtw2ALc8hOUeucpmYqJm_l9BAtn_eG9W5oOFBtAEU3gkv75bQNuWFk90EPzFM02nA9N7a7cGFkmqCiDgONr7cJu8XBHL2JKACO7qot0MiAEjAHt4I0qf9Hp1K0rWWHlw3ZSOnD900fWDXa.DR4dSsc6jz5KI2glC_6NAXanm0_HzvuMDnRv8Gc.9nKq5NS4s0EAbT9BNvv2Ot07KFnoH0EC5Uq7eVA6_O3aUDwAnQjhnSDc4JC2g2TaN1bSH8bDWY5y0qNwa_Vk06JAs5P_ok7haKPHGOm0eAw6pYE\",cRq: {ru: 'aHR0cHM6Ly93d3cuaWhlcmIuY29tL3NlYXJjaD9rdz0lRUIlODIlOTglRUMlOUElQjAlRUQlOTElQjglRUIlOTMlOUM=',ra: 'cHl0aG9uLXJlcXVlc3RzLzIuMzEuMA==',d: 'AG04OfIUFW2dJfROh/12WR/FJ+NFdTmT5scaLbThRVO36IrncRneF+mO5/3E4quEIQ6gLQaR0eVj/XEWRzg+2ex0sFBS0yFtb9l+5IPMzvUiqrKabJI4J47OMzb180vXbET1/bV5w4gcKFq2ADXBR240uymW8oE8wbWRAUEkV/AR75qhFjLLHt7kcsD+ggakWmQik+lq9iujO6RBBB3m8N3Pt5Yad1Asdxm0OFokOqfpPik017stnMm3zWefUNV+Nt+zSnfJo7NXmb7RWTM4GNga/iuWPjsysmKo6lXZTuueHUD9D3q5vYgtBDBlgBK0WmUHqd87nidGMre5EfDLuwKul5nsRIwn4FXf/mtDuLBoORlSXo17Jnc0JqKxksQLRUDUAwzEO9ap/76Z4r9ArlgFpK+f+OFPTpFtKi1rwLVFrZfIC4dMhLGD7Vr7L1qN+z5LsAA84Q5s4MWpX6t4ojajP0vjKzpWnd8ATV6coa0LBVe8fLaebc23RqVFpfBcDavlAOheCmIAcSvTBvtv1hAV2IOcK0kXThBydAKwMsNeX6D8ju/00+QAJJ/44CjgnFk226lev6/Xa0fFQaTruw==',t: 'MTcyNjg5OTczNC4wMDAwMDA=',cT: Math.floor(Date.now() / 1000),m: '0nnEzz2G/JyweQLvOG9j3JQfYi6O0QstqMbFNM01JBE=',i1: 'ScK2yEW8GzcA6gSim+Rztg==',i2: '2Ed7EvKxBuf6g94OqzQFBw==',zh: 'IrpFGH5Fp3OHMbDoRHvqLIwBLQHAtAMzr4M/8tVLjyo=',uh: 'YE9XOpG5TeHmhA1zfs5mxC8CrRZzq2a/+r+OU7dliYQ=',hh: 'k7va4CkeUBFfShGKJ5+wXU8HjSV5ds3DaH7ktvfdgs0=',}};var cpo = document.createElement('script');cpo.src = '/cdn-cgi/challenge-platform/h/g/orchestrate/chl_page/v1?ray=8c67f5ab4cc2d1f6';window._cf_chl_opt.cOgUHash = location.hash === '' && location.href.indexOf('#') !== -1 ? '#' : location.hash;window._cf_chl_opt.cOgUQuery = location.search === '' && location.href.slice(0, location.href.length - window._cf_chl_opt.cOgUHash.length).indexOf('?') !== -1 ? '?' : location.search;if (window.history && window.history.replaceState) {var ogU = location.pathname + window._cf_chl_opt.cOgUQuery + window._cf_chl_opt.cOgUHash;history.replaceState(null, null, \"\\/search?kw=%EB%82%98%EC%9A%B0%ED%91%B8%EB%93%9C&__cf_chl_rt_tk=.XLNC9ycZFEQN76VNO2nYlTFezE9NTUzWwf13PQQAwM-1726899734-0.0.1.1-4521\" + window._cf_chl_opt.cOgUHash);cpo.onload = function() {history.replaceState(null, null, ogU);}}document.getElementsByTagName('head')[0].appendChild(cpo);}());\n",
      "  </script>\n",
      " </body>\n",
      "</html>\n",
      "\n"
     ]
    }
   ],
   "source": [
    "url = \"https://www.iherb.com/search?kw=%EB%82%98%EC%9A%B0%ED%91%B8%EB%93%9C\"\n",
    "r = requests.get(url)\n",
    "soup = BeautifulSoup(r.text, 'html.parser')\n",
    "print(soup.prettify())"
   ]
  },
  {
   "cell_type": "code",
   "execution_count": null,
   "metadata": {},
   "outputs": [],
   "source": [
    "for i in range(1,146):\n",
    "    for i in range"
   ]
  },
  {
   "cell_type": "code",
   "execution_count": null,
   "metadata": {},
   "outputs": [],
   "source": []
  },
  {
   "cell_type": "code",
   "execution_count": null,
   "metadata": {},
   "outputs": [],
   "source": []
  },
  {
   "cell_type": "code",
   "execution_count": null,
   "metadata": {},
   "outputs": [],
   "source": []
  }
 ],
 "metadata": {
  "kernelspec": {
   "display_name": "Python 3 (ipykernel)",
   "language": "python",
   "name": "python3"
  },
  "language_info": {
   "codemirror_mode": {
    "name": "ipython",
    "version": 3
   },
   "file_extension": ".py",
   "mimetype": "text/x-python",
   "name": "python",
   "nbconvert_exporter": "python",
   "pygments_lexer": "ipython3",
   "version": "3.11.7"
  }
 },
 "nbformat": 4,
 "nbformat_minor": 2
}
